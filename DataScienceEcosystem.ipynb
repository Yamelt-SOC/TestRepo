{
  "nbformat": 4,
  "nbformat_minor": 0,
  "metadata": {
    "colab": {
      "provenance": []
    },
    "kernelspec": {
      "name": "python3",
      "display_name": "Python 3"
    },
    "language_info": {
      "name": "python"
    }
  },
  "cells": [
    {
      "cell_type": "code",
      "execution_count": null,
      "metadata": {
        "id": "Kk7_dWxmbW2p"
      },
      "outputs": [],
      "source": []
    },
    {
      "cell_type": "markdown",
      "source": [
        "# Ejercicio 2"
      ],
      "metadata": {
        "id": "t1J7PP16h4XQ"
      }
    },
    {
      "cell_type": "markdown",
      "source": [
        "\n",
        "<h1>Data Science Tools and Ecosystem </h1>"
      ],
      "metadata": {
        "id": "xaZ1YTT5bjW1"
      }
    },
    {
      "cell_type": "code",
      "source": [],
      "metadata": {
        "id": "_Fz0G_J5blKE"
      },
      "execution_count": null,
      "outputs": []
    },
    {
      "cell_type": "markdown",
      "source": [
        "# Ejercicio 3."
      ],
      "metadata": {
        "id": "D6pCAwBnh-24"
      }
    },
    {
      "cell_type": "markdown",
      "source": [
        "## En este cuaderno, se resumen las herramientas y ecosistemas de ciencia de datos.\n",
        "\n"
      ],
      "metadata": {
        "id": "XszbW6R6cDmH"
      }
    },
    {
      "cell_type": "markdown",
      "source": [
        "# Ejercicio 10."
      ],
      "metadata": {
        "id": "n0ymADlyiq6C"
      }
    },
    {
      "cell_type": "markdown",
      "source": [
        "Objetivos:\n",
        "\n",
        "\n",
        "*   Listar lenguajes populares para Ciencia de Datos.\n",
        "*   Listar bibliotecas utilizadas por cientificos de datos.\n",
        "*   Herramientas de Ciencia de Datos.\n",
        "*   Evaluación de expresiones aritméticas en Python.\n",
        "*   Conversión de horas a minutos.\n",
        "\n"
      ],
      "metadata": {
        "id": "5IuG-d0civou"
      }
    },
    {
      "cell_type": "markdown",
      "source": [
        "# Ejercicio 4."
      ],
      "metadata": {
        "id": "gzb7LlikiFVC"
      }
    },
    {
      "cell_type": "markdown",
      "source": [
        "## Algunos de los lenguajes populares que utilizan los científicos de datos son:\n",
        "* Python.\n",
        "* R.\n",
        "* Java.\n"
      ],
      "metadata": {
        "id": "Ert5WJ8oc00I"
      }
    },
    {
      "cell_type": "markdown",
      "source": [
        "# Ejercicio 5."
      ],
      "metadata": {
        "id": "6oKR5RV4iJ43"
      }
    },
    {
      "cell_type": "markdown",
      "source": [
        "## Algunas de las bibliotecas comúnmente utilizadas por los científicos de datos incluyen:\n",
        "* Numpy.\n",
        "* Pandas.\n",
        "* Seaborn.\n",
        "* Matplotly.\n",
        "* Sklearn.\n",
        "* Tensorflow."
      ],
      "metadata": {
        "id": "KHoNyb5fdaqe"
      }
    },
    {
      "cell_type": "markdown",
      "source": [
        "# Ejercicio 6."
      ],
      "metadata": {
        "id": "mXWaXsWSiQGC"
      }
    },
    {
      "cell_type": "markdown",
      "source": [
        "| Herramientas de Ciencia de Datos. |\n",
        "|--------------|\n",
        "| R       |\n",
        "| Python       |\n",
        "| MySQL       |\n",
        "| Jupyter Notebook       |\n"
      ],
      "metadata": {
        "id": "m0bSYGb-fLRV"
      }
    },
    {
      "cell_type": "markdown",
      "source": [
        "# Ejercicio 7."
      ],
      "metadata": {
        "id": "FxHn3TfUiZUW"
      }
    },
    {
      "cell_type": "markdown",
      "source": [
        "<h1>A continuación, se presentan algunos ejemplos de evaluación de expresiones aritméticas en Python. </h1>"
      ],
      "metadata": {
        "id": "X9Pde7Wxg0LR"
      }
    },
    {
      "cell_type": "markdown",
      "source": [
        "# Ejercicio 8."
      ],
      "metadata": {
        "id": "LHQvLLs3idEG"
      }
    },
    {
      "cell_type": "code",
      "source": [
        "# Esta es una expresión aritmética simple para multiplicar y luego sumar enteros\n",
        "(3*4)+5"
      ],
      "metadata": {
        "colab": {
          "base_uri": "https://localhost:8080/"
        },
        "id": "aDf5MNBxg53Z",
        "outputId": "9aca6501-56d7-4a0f-d5eb-33545312c0db"
      },
      "execution_count": 3,
      "outputs": [
        {
          "output_type": "execute_result",
          "data": {
            "text/plain": [
              "17"
            ]
          },
          "metadata": {},
          "execution_count": 3
        }
      ]
    },
    {
      "cell_type": "markdown",
      "source": [
        "# Ejercicio 9."
      ],
      "metadata": {
        "id": "TBwuCFkOiju8"
      }
    },
    {
      "cell_type": "code",
      "source": [
        "# Esto convertirá 200 minutos a horas dividiendo por 60\n",
        "200/60"
      ],
      "metadata": {
        "colab": {
          "base_uri": "https://localhost:8080/"
        },
        "id": "wdJ7SxCdhNTb",
        "outputId": "30babd33-d782-4ee6-e029-38b701508171"
      },
      "execution_count": 5,
      "outputs": [
        {
          "output_type": "execute_result",
          "data": {
            "text/plain": [
              "3.3333333333333335"
            ]
          },
          "metadata": {},
          "execution_count": 5
        }
      ]
    },
    {
      "cell_type": "markdown",
      "source": [
        "# Ejercicio 11."
      ],
      "metadata": {
        "id": "r3lkY55bm_XQ"
      }
    },
    {
      "cell_type": "markdown",
      "source": [
        "<h1>Autor </h1>\n",
        "Yamelt Stiven Olaya Cerquera"
      ],
      "metadata": {
        "id": "X4bJtWQonC-9"
      }
    },
    {
      "cell_type": "code",
      "source": [],
      "metadata": {
        "id": "jZF-HcmPnJ7y"
      },
      "execution_count": null,
      "outputs": []
    }
  ]
}